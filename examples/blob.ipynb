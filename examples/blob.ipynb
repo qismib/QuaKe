{
 "cells": [
  {
   "cell_type": "markdown",
   "metadata": {},
   "source": [
    "## Blob Method \n",
    "This notebook works inside a QuaKe/examples folder.\n",
    "- Finding the hits corresponding to the track endpoints (blob centres) with a BFS (Breadth First Search) method.\n",
    "- Collecting the blob energies within a radius r\n",
    "- The most energetic blob is labeled as blob1, the other as blob2, with energies respectively en_1 and e_2\n",
    "- en_1 and e_2 are treated as input features for SVM, which makes a prediction (Neyman-Pearson lemma could be applied instead)."
   ]
  },
  {
   "cell_type": "code",
   "execution_count": 1,
   "metadata": {},
   "outputs": [
    {
     "name": "stderr",
     "output_type": "stream",
     "text": [
      "2022-12-10 14:23:54.640746: I tensorflow/core/platform/cpu_feature_guard.cc:151] This TensorFlow binary is optimized with oneAPI Deep Neural Network Library (oneDNN) to use the following CPU instructions in performance-critical operations:  AVX2 FMA\n",
      "To enable them in other operations, rebuild TensorFlow with the appropriate compiler flags.\n"
     ]
    }
   ],
   "source": [
    "from quake.models.attention.attention_dataloading import read_data\n",
    "from quake.models.cnn.cnn_dataloading import read_data as read_data_CNN\n",
    "from quake.utils.utils import load_runcard\n",
    "from pathlib import Path\n",
    "import numpy as np\n",
    "import networkx as nx\n",
    "import matplotlib.pyplot as plt"
   ]
  },
  {
   "cell_type": "code",
   "execution_count": 2,
   "metadata": {},
   "outputs": [],
   "source": [
    "data_folder = Path(\"../../output_50_10/data\") # dataset with [1x1x1]mm^3 resolution @ 50keV threshold\n",
    "train_folder = Path(\"../../output_50_10/models/attention\")\n",
    "setup = load_runcard(data_folder.parent/ \"cards/runcard.yaml\")\n",
    "setup[\"seed\"] = 42 # may be set as we please"
   ]
  },
  {
   "cell_type": "code",
   "execution_count": 3,
   "metadata": {},
   "outputs": [],
   "source": [
    "binwidths = np.array(setup[\"detector\"][\"resolution\"])"
   ]
  },
  {
   "cell_type": "code",
   "execution_count": 4,
   "metadata": {},
   "outputs": [
    {
     "name": "stderr",
     "output_type": "stream",
     "text": [
      "[INFO] (quake.attention) Saving splitting maps in folder ../../output_50_10/models/attention\n",
      "[INFO] (quake.attention) Train dataset balancing: 14686 training points, of which 47.48% positives\n",
      "[INFO] (quake.attention) Validation dataset balancing: 3147 training points, of which 48.01% positives\n",
      "[INFO] (quake.attention) Test dataset balancing: 3147 training points, of which 48.14% positives\n"
     ]
    }
   ],
   "source": [
    "train_generator, val_generator, test_generator = read_data(data_folder, train_folder, setup)"
   ]
  },
  {
   "cell_type": "code",
   "execution_count": 5,
   "metadata": {},
   "outputs": [],
   "source": [
    "def distance(sample, i, j, euclid = True):\n",
    "    if euclid:\n",
    "        pi = sample[i, :3]\n",
    "        pj = sample[j, :3]\n",
    "    else:\n",
    "        pi = sample[i, :3]/binwidths\n",
    "        pj = sample[j, :3]/binwidths\n",
    "    return np.sqrt(np.sum((pi - pj)**2))\n",
    "\n",
    "def adjacency_matrix(sample):\n",
    "    n = sample.shape[0]\n",
    "    d = np.zeros((n,n))\n",
    "    for i in range(n):\n",
    "        for j in range(n):\n",
    "            if i != j and distance(sample, i, j, euclid = False) <= np.sqrt(3):\n",
    "                d[i,j] = 1\n",
    "    return d\n",
    "\n",
    "def distance_matrix(sample):\n",
    "    n = sample.shape[0]\n",
    "    d = np.zeros((n,n))\n",
    "    for i in range(n):\n",
    "        for j in range(n):\n",
    "            d[i,j] = distance(sample, i, j, euclid = True)\n",
    "    return d\n",
    "def find_main_trajectory(G):\n",
    "    n = G.number_of_nodes()\n",
    "    max = 0\n",
    "    p1 = -1\n",
    "    p2 = -1\n",
    "    for i in range(n):\n",
    "        for j in range(n):\n",
    "            try:\n",
    "                m = nx.shortest_path_length(G, source = i, target = j)\n",
    "            except:\n",
    "                m = -1\n",
    "            if m > max:\n",
    "                max = m\n",
    "                p1 = i\n",
    "                p2 = j\n",
    "    return max, p1, p2"
   ]
  },
  {
   "cell_type": "code",
   "execution_count": 6,
   "metadata": {},
   "outputs": [],
   "source": [
    "def get_blob_energies(point_clouds):\n",
    "    n = point_clouds.shape[0]\n",
    "    en_1 = np.zeros(n)\n",
    "    en_2 = np.zeros(n)\n",
    "    r = 2 #mm - blob radius\n",
    "    for i in range(n):\n",
    "        sample = point_clouds[i]\n",
    "        adj = adjacency_matrix(sample)\n",
    "        d = distance_matrix(sample)\n",
    "        G = nx.from_numpy_matrix(adj) # Graphs can be visualized with nx.draw(G, with_labels = True)\n",
    "        len, blob1, blob2 = find_main_trajectory(G)\n",
    "        en_blob_1 = np.sum(sample[d[blob1] < r, -1])\n",
    "        en_blob_2 = np.sum(sample[d[blob2] < r, -1])\n",
    "        if en_blob_1 > en_blob_2:\n",
    "            en_1[i] = en_blob_1\n",
    "            en_2[i] = en_blob_2\n",
    "        else:\n",
    "            en_1[i] = en_blob_2\n",
    "            en_2[i] = en_blob_1\n",
    "    return en_1, en_2"
   ]
  },
  {
   "cell_type": "code",
   "execution_count": 7,
   "metadata": {},
   "outputs": [],
   "source": [
    "# Extracting blob energies from point-cloud trackss\n",
    "training_en_1, training_en_2 = get_blob_energies(train_generator.inputs)\n",
    "val_en_1, val_en_2 = get_blob_energies(val_generator.inputs)\n",
    "test_en_1, test_en_2 = get_blob_energies(test_generator.inputs)"
   ]
  },
  {
   "cell_type": "code",
   "execution_count": 15,
   "metadata": {},
   "outputs": [],
   "source": [
    "# Labels\n",
    "training_labels = train_generator.targets\n",
    "val_labels = val_generator.targets\n",
    "test_labels = test_generator.targets"
   ]
  },
  {
   "cell_type": "markdown",
   "metadata": {},
   "source": [
    "As expected, bb events have blobs with similar energyes, and datapoints arrange closer to the bisector. For b events, only one is a proper blob (marking the single-electron stopping-point position), hence one blob candidate has more energy than the other one."
   ]
  },
  {
   "cell_type": "code",
   "execution_count": 16,
   "metadata": {},
   "outputs": [
    {
     "data": {
      "text/plain": [
       "Text(0, 0.5, 'Blob energy 2')"
      ]
     },
     "execution_count": 16,
     "metadata": {},
     "output_type": "execute_result"
    },
    {
     "data": {
      "image/png": "[encoded data removed]",
      "text/plain": [
       "<Figure size 432x288 with 1 Axes>"
      ]
     },
     "metadata": {
      "needs_background": "light"
     },
     "output_type": "display_data"
    }
   ],
   "source": [
    "plt.scatter(training_en_1[training_labels == 0], training_en_2[training_labels == 0], s = 0.03)\n",
    "plt.scatter(training_en_1[training_labels == 1], training_en_2[training_labels == 1], s = 0.03)\n",
    "plt.legend([\"b (blue)\", \"bb (orange)\"])\n",
    "plt.xlabel(\"Blob energy 1\")\n",
    "plt.ylabel(\"Blob energy 2\")"
   ]
  },
  {
   "cell_type": "code",
   "execution_count": 17,
   "metadata": {},
   "outputs": [
    {
     "data": {
      "text/plain": [
       "SVC(C=1)"
      ]
     },
     "execution_count": 17,
     "metadata": {},
     "output_type": "execute_result"
    }
   ],
   "source": [
    "# Training a SVM for classification\n",
    "from sklearn.svm import SVC\n",
    "training_data = np.vstack([training_en_1, training_en_2]).T\n",
    "val_data = np.vstack([val_en_1, val_en_2]).T\n",
    "clf = SVC(C = 1)\n",
    "clf.fit(training_data, training_labels)"
   ]
  },
  {
   "cell_type": "code",
   "execution_count": 18,
   "metadata": {},
   "outputs": [
    {
     "name": "stdout",
     "output_type": "stream",
     "text": [
      "accuracy on training:  0.8429797085659813\n",
      "accuracy on validation:  0.8592310136638068\n"
     ]
    }
   ],
   "source": [
    "# Performance evaluation\n",
    "print(\"accuracy on training: \", clf.score(training_data, training_labels))\n",
    "print(\"accuracy on validation: \", clf.score(val_data, val_labels))"
   ]
  },
  {
   "cell_type": "code",
   "execution_count": 19,
   "metadata": {},
   "outputs": [
    {
     "name": "stdout",
     "output_type": "stream",
     "text": [
      "accuracy on training:  0.840051749965954\n",
      "accuracy on validation:  0.855735621226565\n"
     ]
    }
   ],
   "source": [
    "# Adding number of hits features\n",
    "train_nhits = train_generator.get_extra_features()[:,0]\n",
    "val_nhits = val_generator.get_extra_features()[:,0]\n",
    "\n",
    "training_data = np.hstack([training_data, np.reshape(train_nhits, [-1,1])])\n",
    "val_data = np.hstack([val_data, np.reshape(val_nhits, [-1,1])])\n",
    "\n",
    "clf = SVC(C = 1)\n",
    "clf.fit(training_data, training_labels)\n",
    "print(\"accuracy on training: \", clf.score(training_data, training_labels))\n",
    "print(\"accuracy on validation: \", clf.score(val_data, val_labels))"
   ]
  },
  {
   "cell_type": "code",
   "execution_count": 20,
   "metadata": {},
   "outputs": [],
   "source": [
    "hist_b = np.histogram2d(training_en_1[training_labels == 0], training_en_2[training_labels == 0], bins = (70,70), range = [[0, 2.5],[0, 2.5]])\n",
    "hist_bb = np.histogram2d(training_en_1[training_labels == 1], training_en_2[training_labels == 1], bins = (70,70), range = [[0, 2.5],[0, 2.5]])\n",
    "pdf_b = hist_b[0]/hist_b[0].sum() + 1e-13\n",
    "pdf_bb = hist_bb[0]/hist_bb[0].sum() + 1e-13\n",
    "grid_idx_1 = ((training_en_1/2.5 * 70) ).astype(int)\n",
    "grid_idx_2 = ((training_en_2/2.5 * 70) ).astype(int)"
   ]
  },
  {
   "cell_type": "code",
   "execution_count": 21,
   "metadata": {},
   "outputs": [],
   "source": [
    "def neyman_pearson(pdfb, pdfbb, idx1, idx2):\n",
    "    return np.log(pdfb[idx1, idx2]) /  np.log(pdfbb[idx1, idx2])"
   ]
  },
  {
   "cell_type": "code",
   "execution_count": 22,
   "metadata": {},
   "outputs": [],
   "source": [
    "q = neyman_pearson(pdf_b, pdf_bb, grid_idx_1, grid_idx_2)\n",
    "q = q/q.max()"
   ]
  },
  {
   "cell_type": "code",
   "execution_count": 23,
   "metadata": {},
   "outputs": [
    {
     "data": {
      "text/plain": [
       "(array([   0.,    0.,    0.,    0.,    0.,   11.,  166.,  218.,  275.,\n",
       "         291.,  553.,  531., 1240., 1203.,  971.,  746.,  198.,    0.,\n",
       "           0.,    0.,    0.,    0.,    0.,    0.,    0.,    0.,    0.,\n",
       "           0.,    0.,    0.,    0.,    0.,    0.,  137.,    0.,    0.,\n",
       "          50.,    0.,   60.,   80.,   40.,   66.,   28.,    0.,    0.,\n",
       "          22.,   25.,   14.,   16.,   36.]),\n",
       " array([0.  , 0.02, 0.04, 0.06, 0.08, 0.1 , 0.12, 0.14, 0.16, 0.18, 0.2 ,\n",
       "        0.22, 0.24, 0.26, 0.28, 0.3 , 0.32, 0.34, 0.36, 0.38, 0.4 , 0.42,\n",
       "        0.44, 0.46, 0.48, 0.5 , 0.52, 0.54, 0.56, 0.58, 0.6 , 0.62, 0.64,\n",
       "        0.66, 0.68, 0.7 , 0.72, 0.74, 0.76, 0.78, 0.8 , 0.82, 0.84, 0.86,\n",
       "        0.88, 0.9 , 0.92, 0.94, 0.96, 0.98, 1.  ]),\n",
       " <BarContainer object of 50 artists>)"
      ]
     },
     "execution_count": 23,
     "metadata": {},
     "output_type": "execute_result"
    },
    {
     "data": {
      "image/png": "[encoded data removed]",
      "text/plain": [
       "<Figure size 432x288 with 1 Axes>"
      ]
     },
     "metadata": {
      "needs_background": "light"
     },
     "output_type": "display_data"
    }
   ],
   "source": [
    "plt.hist(q[training_labels == 0], bins = 50, range = [0, 1])\n",
    "plt.hist(q[training_labels == 1], bins = 50, range = [0, 1])"
   ]
  },
  {
   "cell_type": "code",
   "execution_count": 24,
   "metadata": {},
   "outputs": [
    {
     "name": "stdout",
     "output_type": "stream",
     "text": [
      "accuracy is 0.845771483045077 when selecting q > 0.2\n"
     ]
    }
   ],
   "source": [
    "span = np.linspace(0, 1, 50)\n",
    "accuracy = np.zeros(50)\n",
    "for i, c in enumerate(span):\n",
    "    prediction = q > c\n",
    "    accuracy[i] = np.sum(training_labels == prediction) / len(q)\n",
    "print(\"accuracy is\", accuracy.max(), \"when selecting q >\", np.argmax(accuracy)/50)"
   ]
  },
  {
   "cell_type": "code",
   "execution_count": 39,
   "metadata": {},
   "outputs": [],
   "source": [
    "from tensorflow.keras.models import Model\n",
    "from tensorflow.keras.layers import Conv2D\n",
    "from tensorflow.keras.layers import Flatten\n",
    "from tensorflow.keras.layers import Dropout\n",
    "from tensorflow.keras.layers import Dense\n",
    "from tensorflow.keras.layers import Input\n",
    "from tensorflow.keras.layers import LeakyReLU\n",
    "from tensorflow.keras.layers import Concatenate\n",
    "from tensorflow.keras.optimizers import Adam\n",
    "from tensorflow.keras.losses import BinaryCrossentropy\n",
    "from tensorflow.keras.utils import to_categorical\n",
    "from tensorflow import convert_to_tensor\n",
    "\n",
    "def convblocks(input_layer, iterations, alpha, dropout_rate):\n",
    "    \"\"\"\n",
    "    Returns sequences of convolutional-activation-dropout layers blocks\n",
    "\n",
    "    Parameters\n",
    "    ----------\n",
    "        - input_layer: first layer of the Neural Network\n",
    "        - iterations: number of blocks\n",
    "        - alpha: ReLU leakage parameter\n",
    "        - dropout_rate: dropout strength\n",
    "    \"\"\"\n",
    "    conv = list()\n",
    "    leaky = list()\n",
    "    drop = list()\n",
    "\n",
    "    for i in range(0, iterations):\n",
    "        if i == 0:\n",
    "            conv.append(Conv2D(25, kernel_size=(3, 3))(input_layer))\n",
    "        else:\n",
    "            conv.append(Conv2D(25, kernel_size=(3, 3))(drop[i - 1]))\n",
    "        leaky.append(LeakyReLU(alpha=alpha)(conv[i]))\n",
    "        drop.append(Dropout(dropout_rate)(leaky[i]))\n",
    "    return drop[-1]"
   ]
  },
  {
   "cell_type": "code",
   "execution_count": 46,
   "metadata": {},
   "outputs": [
    {
     "name": "stdout",
     "output_type": "stream",
     "text": [
      "Model: \"model_9\"\n",
      "__________________________________________________________________________________________________\n",
      " Layer (type)                   Output Shape         Param #     Connected to                     \n",
      "==================================================================================================\n",
      " input_36 (InputLayer)          [(None, 20, 20, 1)]  0           []                               \n",
      "                                                                                                  \n",
      " input_37 (InputLayer)          [(None, 20, 20, 1)]  0           []                               \n",
      "                                                                                                  \n",
      " input_38 (InputLayer)          [(None, 20, 20, 1)]  0           []                               \n",
      "                                                                                                  \n",
      " conv2d_54 (Conv2D)             (None, 18, 18, 25)   250         ['input_36[0][0]']               \n",
      "                                                                                                  \n",
      " conv2d_56 (Conv2D)             (None, 18, 18, 25)   250         ['input_37[0][0]']               \n",
      "                                                                                                  \n",
      " conv2d_58 (Conv2D)             (None, 18, 18, 25)   250         ['input_38[0][0]']               \n",
      "                                                                                                  \n",
      " leaky_re_lu_68 (LeakyReLU)     (None, 18, 18, 25)   0           ['conv2d_54[0][0]']              \n",
      "                                                                                                  \n",
      " leaky_re_lu_70 (LeakyReLU)     (None, 18, 18, 25)   0           ['conv2d_56[0][0]']              \n",
      "                                                                                                  \n",
      " leaky_re_lu_72 (LeakyReLU)     (None, 18, 18, 25)   0           ['conv2d_58[0][0]']              \n",
      "                                                                                                  \n",
      " dropout_54 (Dropout)           (None, 18, 18, 25)   0           ['leaky_re_lu_68[0][0]']         \n",
      "                                                                                                  \n",
      " dropout_56 (Dropout)           (None, 18, 18, 25)   0           ['leaky_re_lu_70[0][0]']         \n",
      "                                                                                                  \n",
      " dropout_58 (Dropout)           (None, 18, 18, 25)   0           ['leaky_re_lu_72[0][0]']         \n",
      "                                                                                                  \n",
      " conv2d_55 (Conv2D)             (None, 16, 16, 25)   5650        ['dropout_54[0][0]']             \n",
      "                                                                                                  \n",
      " conv2d_57 (Conv2D)             (None, 16, 16, 25)   5650        ['dropout_56[0][0]']             \n",
      "                                                                                                  \n",
      " conv2d_59 (Conv2D)             (None, 16, 16, 25)   5650        ['dropout_58[0][0]']             \n",
      "                                                                                                  \n",
      " leaky_re_lu_69 (LeakyReLU)     (None, 16, 16, 25)   0           ['conv2d_55[0][0]']              \n",
      "                                                                                                  \n",
      " leaky_re_lu_71 (LeakyReLU)     (None, 16, 16, 25)   0           ['conv2d_57[0][0]']              \n",
      "                                                                                                  \n",
      " leaky_re_lu_73 (LeakyReLU)     (None, 16, 16, 25)   0           ['conv2d_59[0][0]']              \n",
      "                                                                                                  \n",
      " dropout_55 (Dropout)           (None, 16, 16, 25)   0           ['leaky_re_lu_69[0][0]']         \n",
      "                                                                                                  \n",
      " dropout_57 (Dropout)           (None, 16, 16, 25)   0           ['leaky_re_lu_71[0][0]']         \n",
      "                                                                                                  \n",
      " dropout_59 (Dropout)           (None, 16, 16, 25)   0           ['leaky_re_lu_73[0][0]']         \n",
      "                                                                                                  \n",
      " flatten_27 (Flatten)           (None, 6400)         0           ['dropout_55[0][0]']             \n",
      "                                                                                                  \n",
      " flatten_28 (Flatten)           (None, 6400)         0           ['dropout_57[0][0]']             \n",
      "                                                                                                  \n",
      " flatten_29 (Flatten)           (None, 6400)         0           ['dropout_59[0][0]']             \n",
      "                                                                                                  \n",
      " concatenate_18 (Concatenate)   (None, 19200)        0           ['flatten_27[0][0]',             \n",
      "                                                                  'flatten_28[0][0]',             \n",
      "                                                                  'flatten_29[0][0]']             \n",
      "                                                                                                  \n",
      " dense_23 (Dense)               (None, 10)           192010      ['concatenate_18[0][0]']         \n",
      "                                                                                                  \n",
      " leaky_re_lu_74 (LeakyReLU)     (None, 10)           0           ['dense_23[0][0]']               \n",
      "                                                                                                  \n",
      " input_39 (InputLayer)          [(None, 2)]          0           []                               \n",
      "                                                                                                  \n",
      " concatenate_19 (Concatenate)   (None, 12)           0           ['leaky_re_lu_74[0][0]',         \n",
      "                                                                  'input_39[0][0]']               \n",
      "                                                                                                  \n",
      " dense_24 (Dense)               (None, 1)            13          ['concatenate_19[0][0]']         \n",
      "                                                                                                  \n",
      "==================================================================================================\n",
      "Total params: 209,723\n",
      "Trainable params: 209,723\n",
      "Non-trainable params: 0\n",
      "__________________________________________________________________________________________________\n"
     ]
    }
   ],
   "source": [
    "input1 = Input((20,20, 1))\n",
    "input2 = Input((20,20, 1))\n",
    "input3 = Input((20,20, 1))\n",
    "input4 = Input((2))\n",
    "alpha = 0.05\n",
    "dropout_rate = 0.15\n",
    "lr = 0.001\n",
    "\n",
    "d1 = convblocks(input1, 2, alpha, dropout_rate)\n",
    "d2 = convblocks(input2, 2, alpha, dropout_rate)\n",
    "d3 = convblocks(input3, 2, alpha, dropout_rate)\n",
    "feature_number = 2\n",
    "\n",
    "f1 = Flatten()(d1)\n",
    "f2 = Flatten()(d2)\n",
    "f3 = Flatten()(d3)\n",
    "\n",
    "concat_layer = Concatenate()([f1, f2, f3])\n",
    "\n",
    "dense1 = Dense(10)(concat_layer)\n",
    "relu1 = LeakyReLU(alpha=alpha)(dense1)\n",
    "\n",
    "physics_layer = Concatenate()([relu1, input4])\n",
    "\n",
    "# dense2 = Dense(10)(physics_layer)\n",
    "# relu2 = LeakyReLU(alpha = alpha)(dense2)\n",
    "\n",
    "pred = Dense(1, activation=\"sigmoid\")(physics_layer)\n",
    "\n",
    "model = Model(inputs=[input1, input2, input3, input4], outputs=pred)\n",
    "model.compile(\n",
    "    loss=BinaryCrossentropy(), optimizer=Adam(lr), metrics=[\"accuracy\"]\n",
    ")\n",
    "model.summary()"
   ]
  },
  {
   "cell_type": "code",
   "execution_count": 27,
   "metadata": {},
   "outputs": [
    {
     "name": "stderr",
     "output_type": "stream",
     "text": [
      "[INFO] (quake.cnn) Loading../../output_50_10/data/e_4283.root.npz\n",
      "[INFO] (quake.cnn) Loading../../output_50_10/data/bb_13659.root.npz\n",
      "[INFO] (quake.cnn) Loading../../output_50_10/data/bb_13746.root.npz\n",
      "[INFO] (quake.cnn) Loading../../output_50_10/data/e_23517.root.npz\n",
      "[INFO] (quake.cnn) Loading../../output_50_10/data/bb_11771.root.npz\n",
      "[INFO] (quake.cnn) Loading../../output_50_10/data/e_26190.root.npz\n",
      "[INFO] (quake.cnn) Loading../../output_50_10/data/bb_12227.root.npz\n",
      "[INFO] (quake.cnn) Loading../../output_50_10/data/e_25714.root.npz\n",
      "[INFO] (quake.cnn) Loading../../output_50_10/data/bb_12006.root.npz\n",
      "[INFO] (quake.cnn) Loading../../output_50_10/data/e_645.root.npz\n",
      "[INFO] (quake.cnn) Loading../../output_50_10/data/e_15844.root.npz\n",
      "[INFO] (quake.cnn) Loading../../output_50_10/data/bb_13247.root.npz\n",
      "[INFO] (quake.cnn) Loading../../output_50_10/data/e_8702.root.npz\n",
      "[INFO] (quake.cnn) Loading../../output_50_10/data/bb_12603.root.npz\n",
      "[INFO] (quake.cnn) Loading../../output_50_10/data/bb_13111.root.npz\n",
      "[INFO] (quake.cnn) Loading../../output_50_10/data/bb_5481.root.npz\n",
      "[INFO] (quake.cnn) Loading../../output_50_10/data/e_15428.root.npz\n",
      "[INFO] (quake.cnn) Loading../../output_50_10/data/e_17501.root.npz\n",
      "[INFO] (quake.cnn) Loading../../output_50_10/data/e_5481.root.npz\n",
      "[INFO] (quake.cnn) Loading../../output_50_10/data/e_18773.root.npz\n",
      "[INFO] (quake.cnn) Loading../../output_50_10/data/bb_13926.root.npz\n",
      "[INFO] (quake.cnn) Saving splitting maps in folder ../../output_50_10/models/attention\n",
      "[INFO] (quake.cnn) Train dataset balancing: 14686 training points, of which 47.51% positives\n",
      "[INFO] (quake.cnn) Validation dataset balancing: 3147 training points, of which 47.25% positives\n",
      "[INFO] (quake.cnn) Test dataset balancing: 3147 training points, of which 48.78% positives\n"
     ]
    }
   ],
   "source": [
    "train_generator_cnn, val_generator_cnn, test_generator_cnn = read_data_CNN(data_folder, train_folder, setup)"
   ]
  },
  {
   "cell_type": "code",
   "execution_count": 28,
   "metadata": {},
   "outputs": [],
   "source": [
    "train_xy = train_generator_cnn.xy_planes\n",
    "val_xy = val_generator_cnn.xy_planes\n",
    "train_xz = train_generator_cnn.xz_planes\n",
    "val_xz = val_generator_cnn.xz_planes\n",
    "train_yz = train_generator_cnn.yz_planes\n",
    "val_yz = val_generator_cnn.yz_planes"
   ]
  },
  {
   "cell_type": "code",
   "execution_count": 47,
   "metadata": {},
   "outputs": [
    {
     "name": "stdout",
     "output_type": "stream",
     "text": [
      "Epoch 1/50\n",
      "123/123 [==============================] - 25s 194ms/step - loss: 0.6458 - accuracy: 0.6272 - val_loss: 0.6100 - val_accuracy: 0.6692\n",
      "Epoch 2/50\n",
      "123/123 [==============================] - 24s 191ms/step - loss: 0.6142 - accuracy: 0.6606 - val_loss: 0.5976 - val_accuracy: 0.6841\n",
      "Epoch 3/50\n",
      "123/123 [==============================] - 24s 194ms/step - loss: 0.5935 - accuracy: 0.6864 - val_loss: 0.5746 - val_accuracy: 0.7038\n",
      "Epoch 4/50\n",
      "123/123 [==============================] - 24s 194ms/step - loss: 0.5782 - accuracy: 0.7039 - val_loss: 0.5587 - val_accuracy: 0.7159\n",
      "Epoch 5/50\n",
      "123/123 [==============================] - 24s 193ms/step - loss: 0.5618 - accuracy: 0.7169 - val_loss: 0.5430 - val_accuracy: 0.7394\n",
      "Epoch 6/50\n",
      "123/123 [==============================] - 24s 199ms/step - loss: 0.5499 - accuracy: 0.7271 - val_loss: 0.5363 - val_accuracy: 0.7413\n",
      "Epoch 7/50\n",
      "123/123 [==============================] - 24s 194ms/step - loss: 0.5411 - accuracy: 0.7321 - val_loss: 0.5254 - val_accuracy: 0.7518\n",
      "Epoch 8/50\n",
      "123/123 [==============================] - 24s 197ms/step - loss: 0.5267 - accuracy: 0.7464 - val_loss: 0.5244 - val_accuracy: 0.7509\n",
      "Epoch 9/50\n",
      "123/123 [==============================] - 24s 192ms/step - loss: 0.5154 - accuracy: 0.7509 - val_loss: 0.4992 - val_accuracy: 0.7747\n",
      "Epoch 10/50\n",
      "123/123 [==============================] - 24s 193ms/step - loss: 0.5052 - accuracy: 0.7618 - val_loss: 0.4950 - val_accuracy: 0.7779\n",
      "Epoch 11/50\n",
      "123/123 [==============================] - 24s 196ms/step - loss: 0.4936 - accuracy: 0.7668 - val_loss: 0.4853 - val_accuracy: 0.7801\n",
      "Epoch 12/50\n",
      "123/123 [==============================] - 24s 196ms/step - loss: 0.4866 - accuracy: 0.7726 - val_loss: 0.4943 - val_accuracy: 0.7811\n",
      "Epoch 13/50\n",
      "123/123 [==============================] - 24s 192ms/step - loss: 0.4781 - accuracy: 0.7805 - val_loss: 0.4744 - val_accuracy: 0.7915\n",
      "Epoch 14/50\n",
      "123/123 [==============================] - 23s 188ms/step - loss: 0.4741 - accuracy: 0.7858 - val_loss: 0.4652 - val_accuracy: 0.8008\n",
      "Epoch 15/50\n",
      "123/123 [==============================] - 23s 188ms/step - loss: 0.4691 - accuracy: 0.7889 - val_loss: 0.4769 - val_accuracy: 0.7890\n",
      "Epoch 16/50\n",
      "123/123 [==============================] - 24s 193ms/step - loss: 0.4640 - accuracy: 0.7894 - val_loss: 0.4635 - val_accuracy: 0.8014\n",
      "Epoch 17/50\n",
      "123/123 [==============================] - 23s 190ms/step - loss: 0.4554 - accuracy: 0.7955 - val_loss: 0.4574 - val_accuracy: 0.8043\n",
      "Epoch 18/50\n",
      "123/123 [==============================] - 25s 205ms/step - loss: 0.4495 - accuracy: 0.7996 - val_loss: 0.4588 - val_accuracy: 0.8039\n",
      "Epoch 19/50\n",
      "123/123 [==============================] - 25s 205ms/step - loss: 0.4445 - accuracy: 0.8020 - val_loss: 0.4570 - val_accuracy: 0.8046\n",
      "Epoch 20/50\n",
      "123/123 [==============================] - 32s 260ms/step - loss: 0.4401 - accuracy: 0.8054 - val_loss: 0.4479 - val_accuracy: 0.8103\n",
      "Epoch 21/50\n",
      "123/123 [==============================] - 29s 232ms/step - loss: 0.4374 - accuracy: 0.8095 - val_loss: 0.4534 - val_accuracy: 0.8046\n",
      "Epoch 22/50\n",
      "123/123 [==============================] - 24s 196ms/step - loss: 0.4339 - accuracy: 0.8115 - val_loss: 0.4434 - val_accuracy: 0.8157\n",
      "Epoch 23/50\n",
      "123/123 [==============================] - 23s 190ms/step - loss: 0.4302 - accuracy: 0.8136 - val_loss: 0.4546 - val_accuracy: 0.8004\n",
      "Epoch 24/50\n",
      "123/123 [==============================] - 24s 192ms/step - loss: 0.4251 - accuracy: 0.8156 - val_loss: 0.4490 - val_accuracy: 0.8055\n",
      "Epoch 25/50\n",
      "123/123 [==============================] - 23s 191ms/step - loss: 0.4227 - accuracy: 0.8152 - val_loss: 0.4445 - val_accuracy: 0.8128\n",
      "Epoch 26/50\n",
      "123/123 [==============================] - 23s 189ms/step - loss: 0.4174 - accuracy: 0.8209 - val_loss: 0.4393 - val_accuracy: 0.8112\n",
      "Epoch 27/50\n",
      "123/123 [==============================] - 23s 189ms/step - loss: 0.4133 - accuracy: 0.8223 - val_loss: 0.4383 - val_accuracy: 0.8163\n",
      "Epoch 28/50\n",
      "123/123 [==============================] - 24s 195ms/step - loss: 0.4127 - accuracy: 0.8230 - val_loss: 0.4378 - val_accuracy: 0.8179\n",
      "Epoch 29/50\n",
      "123/123 [==============================] - 24s 193ms/step - loss: 0.4073 - accuracy: 0.8262 - val_loss: 0.4358 - val_accuracy: 0.8167\n",
      "Epoch 30/50\n",
      "123/123 [==============================] - 24s 194ms/step - loss: 0.4076 - accuracy: 0.8213 - val_loss: 0.4440 - val_accuracy: 0.8132\n",
      "Epoch 31/50\n",
      "123/123 [==============================] - 25s 204ms/step - loss: 0.4024 - accuracy: 0.8287 - val_loss: 0.4373 - val_accuracy: 0.8157\n",
      "Epoch 32/50\n",
      "123/123 [==============================] - 23s 188ms/step - loss: 0.3995 - accuracy: 0.8309 - val_loss: 0.4371 - val_accuracy: 0.8157\n",
      "Epoch 33/50\n",
      "123/123 [==============================] - 23s 189ms/step - loss: 0.3986 - accuracy: 0.8297 - val_loss: 0.4390 - val_accuracy: 0.8192\n",
      "Epoch 34/50\n",
      "123/123 [==============================] - 23s 188ms/step - loss: 0.3984 - accuracy: 0.8283 - val_loss: 0.4516 - val_accuracy: 0.8081\n",
      "Epoch 35/50\n",
      "123/123 [==============================] - 23s 187ms/step - loss: 0.3994 - accuracy: 0.8287 - val_loss: 0.4402 - val_accuracy: 0.8163\n",
      "Epoch 36/50\n",
      "123/123 [==============================] - 24s 194ms/step - loss: 0.3885 - accuracy: 0.8362 - val_loss: 0.4405 - val_accuracy: 0.8170\n",
      "Epoch 37/50\n",
      "123/123 [==============================] - 23s 189ms/step - loss: 0.3883 - accuracy: 0.8371 - val_loss: 0.4396 - val_accuracy: 0.8176\n",
      "Epoch 38/50\n",
      "123/123 [==============================] - 25s 202ms/step - loss: 0.3859 - accuracy: 0.8376 - val_loss: 0.4406 - val_accuracy: 0.8182\n",
      "Epoch 39/50\n",
      "123/123 [==============================] - 24s 193ms/step - loss: 0.3839 - accuracy: 0.8381 - val_loss: 0.4388 - val_accuracy: 0.8208\n",
      "Epoch 40/50\n",
      "123/123 [==============================] - 23s 189ms/step - loss: 0.3824 - accuracy: 0.8388 - val_loss: 0.4412 - val_accuracy: 0.8201\n",
      "Epoch 41/50\n",
      "123/123 [==============================] - 24s 196ms/step - loss: 0.3798 - accuracy: 0.8403 - val_loss: 0.4387 - val_accuracy: 0.8208\n",
      "Epoch 42/50\n",
      "123/123 [==============================] - 24s 191ms/step - loss: 0.3802 - accuracy: 0.8390 - val_loss: 0.4410 - val_accuracy: 0.8186\n",
      "Epoch 43/50\n",
      "123/123 [==============================] - 24s 195ms/step - loss: 0.3744 - accuracy: 0.8434 - val_loss: 0.4421 - val_accuracy: 0.8205\n",
      "Epoch 44/50\n",
      "123/123 [==============================] - 25s 205ms/step - loss: 0.3716 - accuracy: 0.8424 - val_loss: 0.4606 - val_accuracy: 0.8065\n",
      "Epoch 45/50\n",
      "123/123 [==============================] - 23s 187ms/step - loss: 0.3724 - accuracy: 0.8448 - val_loss: 0.4449 - val_accuracy: 0.8189\n",
      "Epoch 46/50\n",
      "123/123 [==============================] - 23s 189ms/step - loss: 0.3704 - accuracy: 0.8434 - val_loss: 0.4415 - val_accuracy: 0.8208\n",
      "Epoch 47/50\n",
      "123/123 [==============================] - 23s 189ms/step - loss: 0.3690 - accuracy: 0.8461 - val_loss: 0.4457 - val_accuracy: 0.8214\n",
      "Epoch 48/50\n",
      "123/123 [==============================] - 24s 192ms/step - loss: 0.3635 - accuracy: 0.8441 - val_loss: 0.4485 - val_accuracy: 0.8186\n",
      "Epoch 49/50\n",
      "123/123 [==============================] - 24s 191ms/step - loss: 0.3620 - accuracy: 0.8492 - val_loss: 0.4446 - val_accuracy: 0.8201\n",
      "Epoch 50/50\n",
      "123/123 [==============================] - 24s 194ms/step - loss: 0.3593 - accuracy: 0.8486 - val_loss: 0.4535 - val_accuracy: 0.8128\n"
     ]
    },
    {
     "data": {
      "text/plain": [
       "<keras.callbacks.History at 0x7f60216a94c0>"
      ]
     },
     "execution_count": 47,
     "metadata": {},
     "output_type": "execute_result"
    }
   ],
   "source": [
    "batch_size = 120\n",
    "epochs = 50\n",
    "model.fit(\n",
    "    [train_xy, train_xz, train_yz, training_data[:,:2]/10],\n",
    "    training_labels,\n",
    "    batch_size=batch_size,\n",
    "    epochs=epochs,\n",
    "    validation_data=([val_xy, val_xz, val_yz, val_data[:,:2]/10], val_labels),\n",
    "    verbose=1,\n",
    "    shuffle = True\n",
    ")"
   ]
  }
 ],
 "metadata": {
  "kernelspec": {
   "display_name": "Python 3.9.10 ('.venv': venv)",
   "language": "python",
   "name": "python3"
  },
  "language_info": {
   "codemirror_mode": {
    "name": "ipython",
    "version": 3
   },
   "file_extension": ".py",
   "mimetype": "text/x-python",
   "name": "python",
   "nbconvert_exporter": "python",
   "pygments_lexer": "ipython3",
   "version": "3.9.15 (main, Oct 12 2022, 19:14:24) \n[GCC 9.4.0]"
  },
  "orig_nbformat": 4,
  "vscode": {
   "interpreter": {
    "hash": "a0a4c11616797343aec84642c427ab734a4fa6446bc9cef6ab263c223e5620f8"
   }
  }
 },
 "nbformat": 4,
 "nbformat_minor": 2
}
