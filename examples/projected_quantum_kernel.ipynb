{
 "cells": [
  {
   "cell_type": "code",
   "execution_count": 1,
   "metadata": {},
   "outputs": [
    {
     "name": "stderr",
     "output_type": "stream",
     "text": [
      "2023-09-20 15:00:58.043956: I tensorflow/core/platform/cpu_feature_guard.cc:193] This TensorFlow binary is optimized with oneAPI Deep Neural Network Library (oneDNN) to use the following CPU instructions in performance-critical operations:  AVX2 AVX512F AVX512_VNNI FMA\n",
      "To enable them in other operations, rebuild TensorFlow with the appropriate compiler flags.\n",
      "2023-09-20 15:00:58.141346: I tensorflow/core/util/port.cc:104] oneDNN custom operations are on. You may see slightly different numerical results due to floating-point round-off errors from different computation orders. To turn them off, set the environment variable `TF_ENABLE_ONEDNN_OPTS=0`.\n",
      "2023-09-20 15:00:58.544251: W tensorflow/compiler/xla/stream_executor/platform/default/dso_loader.cc:64] Could not load dynamic library 'libnvinfer.so.7'; dlerror: libnvinfer.so.7: cannot open shared object file: No such file or directory\n",
      "2023-09-20 15:00:58.544321: W tensorflow/compiler/xla/stream_executor/platform/default/dso_loader.cc:64] Could not load dynamic library 'libnvinfer_plugin.so.7'; dlerror: libnvinfer_plugin.so.7: cannot open shared object file: No such file or directory\n",
      "2023-09-20 15:00:58.544327: W tensorflow/compiler/tf2tensorrt/utils/py_utils.cc:38] TF-TRT Warning: Cannot dlopen some TensorRT libraries. If you would like to use Nvidia GPU with TensorRT, please make sure the missing libraries mentioned above are installed properly.\n",
      "2023-09-20 15:00:59.570981: I tensorflow/compiler/xla/stream_executor/cuda/cuda_gpu_executor.cc:967] could not open file to read NUMA node: /sys/bus/pci/devices/0000:01:00.0/numa_node\n",
      "Your kernel may have been built without NUMA support.\n",
      "2023-09-20 15:00:59.613925: I tensorflow/compiler/xla/stream_executor/cuda/cuda_gpu_executor.cc:967] could not open file to read NUMA node: /sys/bus/pci/devices/0000:01:00.0/numa_node\n",
      "Your kernel may have been built without NUMA support.\n",
      "2023-09-20 15:00:59.613984: I tensorflow/compiler/xla/stream_executor/cuda/cuda_gpu_executor.cc:967] could not open file to read NUMA node: /sys/bus/pci/devices/0000:01:00.0/numa_node\n",
      "Your kernel may have been built without NUMA support.\n",
      "2023-09-20 15:00:59.614557: I tensorflow/core/platform/cpu_feature_guard.cc:193] This TensorFlow binary is optimized with oneAPI Deep Neural Network Library (oneDNN) to use the following CPU instructions in performance-critical operations:  AVX2 AVX512F AVX512_VNNI FMA\n",
      "To enable them in other operations, rebuild TensorFlow with the appropriate compiler flags.\n",
      "2023-09-20 15:00:59.616351: I tensorflow/compiler/xla/stream_executor/cuda/cuda_gpu_executor.cc:967] could not open file to read NUMA node: /sys/bus/pci/devices/0000:01:00.0/numa_node\n",
      "Your kernel may have been built without NUMA support.\n",
      "2023-09-20 15:00:59.616439: I tensorflow/compiler/xla/stream_executor/cuda/cuda_gpu_executor.cc:967] could not open file to read NUMA node: /sys/bus/pci/devices/0000:01:00.0/numa_node\n",
      "Your kernel may have been built without NUMA support.\n",
      "2023-09-20 15:00:59.616470: I tensorflow/compiler/xla/stream_executor/cuda/cuda_gpu_executor.cc:967] could not open file to read NUMA node: /sys/bus/pci/devices/0000:01:00.0/numa_node\n",
      "Your kernel may have been built without NUMA support.\n",
      "2023-09-20 15:01:00.178154: I tensorflow/compiler/xla/stream_executor/cuda/cuda_gpu_executor.cc:967] could not open file to read NUMA node: /sys/bus/pci/devices/0000:01:00.0/numa_node\n",
      "Your kernel may have been built without NUMA support.\n",
      "2023-09-20 15:01:00.178276: I tensorflow/compiler/xla/stream_executor/cuda/cuda_gpu_executor.cc:967] could not open file to read NUMA node: /sys/bus/pci/devices/0000:01:00.0/numa_node\n",
      "Your kernel may have been built without NUMA support.\n",
      "2023-09-20 15:01:00.178283: I tensorflow/core/common_runtime/gpu/gpu_device.cc:1700] Could not identify NUMA node of platform GPU id 0, defaulting to 0.  Your kernel may not have been built with NUMA support.\n",
      "2023-09-20 15:01:00.178317: I tensorflow/compiler/xla/stream_executor/cuda/cuda_gpu_executor.cc:967] could not open file to read NUMA node: /sys/bus/pci/devices/0000:01:00.0/numa_node\n",
      "Your kernel may have been built without NUMA support.\n",
      "2023-09-20 15:01:00.178349: I tensorflow/core/common_runtime/gpu/gpu_device.cc:1613] Created device /job:localhost/replica:0/task:0/device:GPU:0 with 2081 MB memory:  -> device: 0, name: NVIDIA GeForce GTX 1650, pci bus id: 0000:01:00.0, compute capability: 7.5\n",
      "[INFO] (quake.autoencoder) Loading splitting maps from folder: ../../output_2/models/autoencoder\n",
      "INFO:quake.autoencoder:Loading splitting maps from folder: ../../output_2/models/autoencoder\n",
      "[INFO] (quake.autoencoder) Train dataset balancing: 125517 training points, of which 50.12% positives\n",
      "INFO:quake.autoencoder:Train dataset balancing: 125517 training points, of which 50.12% positives\n",
      "[INFO] (quake.autoencoder) Validation dataset balancing: 26897 training points, of which 49.77% positives\n",
      "INFO:quake.autoencoder:Validation dataset balancing: 26897 training points, of which 49.77% positives\n",
      "[INFO] (quake.autoencoder) Test dataset balancing: 26897 training points, of which 49.74% positives\n",
      "INFO:quake.autoencoder:Test dataset balancing: 26897 training points, of which 49.74% positives\n",
      "[INFO] (quake.autoencoder) Loading weights at ../../output_2/models/autoencoder/autoencoder.h5\n",
      "INFO:quake.autoencoder:Loading weights at ../../output_2/models/autoencoder/autoencoder.h5\n"
     ]
    },
    {
     "name": "stdout",
     "output_type": "stream",
     "text": [
      "4184/4184 [==============================] - 7s 2ms/step\n",
      "897/897 [==============================] - 1s 2ms/step\n",
      "897/897 [==============================] - 1s 2ms/step\n"
     ]
    }
   ],
   "source": [
    "from quake.utils.utils import load_runcard, save_runcard\n",
    "from quake.models.autoencoder.autoencoder_dataloading import read_data\n",
    "from quake.models.autoencoder.train import load_and_compile_network\n",
    "import numpy as np\n",
    "from pathlib import Path\n",
    "from quake.models.qsvm.qsvm_tester import get_features\n",
    "from qiskit.circuit.library import ZZFeatureMap\n",
    "from sklearn.svm import SVC\n",
    "from sklearn.model_selection import cross_val_score\n",
    "from sklearn.model_selection import GridSearchCV\n",
    "from quake.models.qsvm import genetic_main as genetic\n",
    "\n",
    "from qiskit import Aer\n",
    "\n",
    "import time\n",
    "\n",
    "# Dataset loading\n",
    "data_folder = Path(\"../../output_2/data\")\n",
    "train_folder = Path(\"../../output_2/models/autoencoder\")\n",
    "setup = load_runcard(\"../../output_2/cards/runcard.yaml\")\n",
    "setup[\"run_tf_eagerly\"] = True\n",
    "setup[\"seed\"] = 42\n",
    "\n",
    "dataset, labels = get_features(data_folder.parent, \"autoencoder\", setup)\n",
    "data_cv, data_labels = genetic.get_subsample(dataset[2], labels[2], 100)"
   ]
  },
  {
   "cell_type": "code",
   "execution_count": 2,
   "metadata": {},
   "outputs": [],
   "source": [
    "fmap = ZZFeatureMap(feature_dimension=3, reps=1)"
   ]
  },
  {
   "cell_type": "code",
   "execution_count": null,
   "metadata": {},
   "outputs": [
    {
     "name": "stdout",
     "output_type": "stream",
     "text": [
      "0.66\n"
     ]
    }
   ],
   "source": [
    "from sklearn.svm import SVC\n",
    "from sklearn.model_selection import cross_val_score\n",
    "from sklearn.model_selection import GridSearchCV\n",
    "clf = SVC(kernel=\"precomputed\")\n",
    "\n",
    "param_grid = {\"C\": [0.01, 0.1, 1, 10, 100, 1000, 10000]}\n",
    "grid_search = GridSearchCV(clf, param_grid, cv=5, scoring=\"accuracy\")\n",
    "grid_search.fit(qkernel, data_labels)\n",
    "best_clf = grid_search.best_estimator_\n",
    "accuracy_cv = cross_val_score(\n",
    "    best_clf, qkernel, data_labels, cv=5, scoring=\"accuracy\"\n",
    ")\n",
    "fitness_value = np.mean(accuracy_cv)\n",
    "print(fitness_value)"
   ]
  }
 ],
 "metadata": {
  "kernelspec": {
   "display_name": "tesienv",
   "language": "python",
   "name": "python3"
  },
  "language_info": {
   "codemirror_mode": {
    "name": "ipython",
    "version": 3
   },
   "file_extension": ".py",
   "mimetype": "text/x-python",
   "name": "python",
   "nbconvert_exporter": "python",
   "pygments_lexer": "ipython3",
   "version": "3.9.16"
  },
  "orig_nbformat": 4
 },
 "nbformat": 4,
 "nbformat_minor": 2
}
