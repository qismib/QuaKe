{
 "cells": [
  {
   "cell_type": "code",
   "execution_count": 1,
   "id": "d3795d33",
   "metadata": {},
   "outputs": [],
   "source": [
    "import numpy as np\n",
    "import scipy.sparse\n",
    "from pathlib import Path\n",
    "import matplotlib.pylab as plt\n",
    "import seaborn as sns\n",
    "import random\n",
    "from sklearn.decomposition import PCA\n",
    "from sklearn import preprocessing\n",
    "from sklearn.preprocessing import MinMaxScaler\n",
    "from sklearn.feature_selection import SelectFromModel\n",
    "from sklearn.ensemble import RandomForestRegressor\n",
    "from sklearn.datasets import make_regression\n",
    "from sklearn.model_selection import train_test_split\n",
    "from sklearn.svm import SVC\n",
    "from tensorflow.keras.utils import to_categorical"
   ]
  },
  {
   "cell_type": "code",
   "execution_count": 2,
   "id": "e59a341b",
   "metadata": {},
   "outputs": [],
   "source": [
    "def get_data(file):\n",
    "    matrix = scipy.sparse.load_npz(file).todense()\n",
    "    return np.array(matrix).reshape(1000, 8, 8, 40)"
   ]
  },
  {
   "cell_type": "code",
   "execution_count": 3,
   "id": "c6e7871e",
   "metadata": {},
   "outputs": [
    {
     "name": "stdout",
     "output_type": "stream",
     "text": [
      "Signal shapes data: (10000, 8, 8, 40)\n",
      "Background shapes data: (10000, 8, 8, 40)\n"
     ]
    }
   ],
   "source": [
    "# file starting with b are signal, e for background\n",
    "folder = Path(\"./data\")\n",
    "\n",
    "data_sig_l = []\n",
    "data_bkg_l = []\n",
    "for file in folder.iterdir():\n",
    "    # signal files\n",
    "    is_signal = file.name[0] == \"b\"\n",
    "    is_background = file.name[0] == \"e\"\n",
    "    if is_signal:\n",
    "        if file.suffix == \".npz\":\n",
    "            data_sig_l.append(get_data(file))\n",
    "    # background files\n",
    "    elif is_background:\n",
    "        if file.suffix == \".npz\":\n",
    "            data_bkg_l.append(get_data(file))\n",
    "\n",
    "data_sig_l = np.concatenate(data_sig_l, axis=0)\n",
    "data_bkg_l = np.concatenate(data_bkg_l, axis=0)\n",
    "\n",
    "print(f\"Signal shapes data: {data_sig_l.shape}\")\n",
    "print(f\"Background shapes data: {data_bkg_l.shape}\")"
   ]
  },
  {
   "cell_type": "code",
   "execution_count": 4,
   "id": "462f2078",
   "metadata": {},
   "outputs": [
    {
     "name": "stdout",
     "output_type": "stream",
     "text": [
      "Plotting number 6337\n"
     ]
    },
    {
     "data": {
      "text/plain": [
       "<Figure size 3600x7200 with 0 Axes>"
      ]
     },
     "metadata": {},
     "output_type": "display_data"
    },
    {
     "data": {
      "image/png": "[encoded data removed]",
      "text/plain": [
       "<Figure size 1296x360 with 6 Axes>"
      ]
     },
     "metadata": {
      "needs_background": "light"
     },
     "output_type": "display_data"
    }
   ],
   "source": [
    "# Plot of a random event\n",
    "plt.figure(figsize=(50, 100))\n",
    "fig, (axs) = plt.subplots(1, 3)\n",
    "fig.set_figheight(5)\n",
    "fig.set_figwidth(18)\n",
    "\n",
    "n = random.randrange(0, 1e4) \n",
    "is_sig = False\n",
    "if is_sig:\n",
    "    dataZ = data_sig_l.sum(3)\n",
    "    dataY = data_sig_l.sum(2)\n",
    "    dataX = data_sig_l.sum(1)\n",
    "else:\n",
    "    dataZ = data_bkg_l.sum(3)\n",
    "    dataY = data_bkg_l.sum(2)\n",
    "    dataX = data_bkg_l.sum(1)\n",
    "\n",
    "print(\"Plotting number\", n)\n",
    "gz = sns.heatmap(dataZ[n], annot=False, ax=axs[0])\n",
    "gz.set_title(\"XY\")\n",
    "\n",
    "gy = sns.heatmap(dataY[n], annot=False, ax=axs[1])\n",
    "gy.set_title(\"XZ\")\n",
    "\n",
    "gx = sns.heatmap(dataX[n], annot=False, ax=axs[2])\n",
    "gx.set_title(\"YZ\")\n",
    "\n",
    "\n",
    "plt.show()"
   ]
  },
  {
   "cell_type": "code",
   "execution_count": 5,
   "id": "b1fee959",
   "metadata": {},
   "outputs": [],
   "source": [
    "# Extracting only energies from 3D hits\n",
    "# nmax = 17 -> 17 features per event (with 0 padding for missing hits)\n",
    "def build_features_e(data):\n",
    "    nmax = 17 # max number of hits encountered\n",
    "    feats = np.zeros((nmax+1, data.shape[0]))-1\n",
    "    for i, particle in enumerate(data):\n",
    "        coords = np.argwhere(particle)   \n",
    "        n = coords.shape[0]\n",
    "\n",
    "        en = np.zeros(n)\n",
    "        en = particle[coords[:, 0], coords[:, 1], coords[:, 2]]\n",
    "\n",
    "        z = np.zeros(nmax-n)\n",
    "        feats[:-1, i] = np.concatenate((en, z))\n",
    "        feats[-1, i] = n\n",
    "\n",
    "    return feats"
   ]
  },
  {
   "cell_type": "code",
   "execution_count": 6,
   "id": "806a1714",
   "metadata": {},
   "outputs": [],
   "source": [
    "# Extracting energies and coordinates from 3D hits\n",
    "# nmax = 17 -> 17*4 features per event (with 0 padding for missing hits)\n",
    "def build_features_ec(data):\n",
    "    nmax = 17 # max number of hits encountered\n",
    "    feats = np.zeros((4*nmax+1, data.shape[0]))-1\n",
    "    for i, particle in enumerate(data):\n",
    "        coords = np.argwhere(particle)\n",
    "        n = coords.shape[0]\n",
    "\n",
    "        if n != 0:\n",
    "            cx = coords[:,0]-coords[0,0]\n",
    "            cy = coords[:,1]-coords[0,1]\n",
    "            cz = coords[:,2]-coords[0,2]\n",
    "            z = np.zeros(nmax-n)\n",
    "\n",
    "            en = particle[coords[:, 0], coords[:, 1], coords[:, 2]] \n",
    "\n",
    "            feats[:nmax, i] = np.concatenate((en, z))\n",
    "            feats[nmax:2*nmax, i] = np.concatenate((cx, z))\n",
    "            feats[2*nmax:3*nmax, i] = np.concatenate((cy, z))\n",
    "            feats[3*nmax:4*nmax, i] = np.concatenate((cz, z))\n",
    "            feats[-1, i] = n\n",
    "\n",
    "    return feats"
   ]
  },
  {
   "cell_type": "code",
   "execution_count": 7,
   "id": "55bae0a5",
   "metadata": {},
   "outputs": [],
   "source": [
    "# Extracting only energies from 2D projections (integrating over a chosen axis. Default: Z)\n",
    "def build_features_e_2D(data3d, ax = 3):\n",
    "    data = data3d.sum(ax)\n",
    "    if ax == 3:\n",
    "        nmax = 7 # max number of hits encountered\n",
    "    else:\n",
    "        nmax = 17\n",
    "    feats = np.zeros((nmax+1, data.shape[0]))-1\n",
    "    for i, particle in enumerate(data):\n",
    "\n",
    "        coords = np.argwhere(particle > 0.05)\n",
    "        n = coords.shape[0]\n",
    "        if n != 0:\n",
    "            z = np.zeros(nmax-n)\n",
    "            en = np.zeros(n)  \n",
    "            en = particle[coords[:,0], coords[:,0]]\n",
    "            feats[:nmax, i] = np.concatenate((en, z))\n",
    "            feats[-1, i] = n\n",
    "\n",
    "    return feats"
   ]
  },
  {
   "cell_type": "code",
   "execution_count": 8,
   "id": "b5070471",
   "metadata": {},
   "outputs": [],
   "source": [
    "# Extracting energies and coordinates from 2D projections (integrating over a chosen axis. Default: Z)\n",
    "def build_features_ec_2D(data3d, ax = 3):\n",
    "    data = data3d.sum(ax)\n",
    "    if ax == 3:\n",
    "        nmax = 7 # max number of hits encountered\n",
    "    else:\n",
    "        nmax = 17\n",
    "    feats = np.zeros((3*nmax+1, data.shape[0]))-1\n",
    "    for i, particle in enumerate(data):\n",
    "        coords = np.argwhere(particle > 0.05)\n",
    "        n = coords.shape[0]\n",
    "        if n != 0:\n",
    "            if n > 8:\n",
    "                print(i)\n",
    "            cx = coords[:,0]-coords[0,0]\n",
    "            cy = coords[:,1]-coords[0,1]\n",
    "            z = np.zeros(nmax-n)\n",
    "\n",
    "            en = particle[coords[:,0], coords[:,0]]\n",
    "\n",
    "            feats[:nmax, i] = np.concatenate((en, z))\n",
    "            feats[nmax:2*nmax, i] = np.concatenate((cx, z))\n",
    "            feats[2*nmax:3*nmax, i] = np.concatenate((cy, z))\n",
    "            feats[-1, i] = n\n",
    "\n",
    "    return feats"
   ]
  },
  {
   "cell_type": "code",
   "execution_count": 9,
   "id": "0ccf3015",
   "metadata": {},
   "outputs": [],
   "source": [
    "# Computing the features\n",
    "feats_sig_e = build_features_e(data_sig_l)\n",
    "feats_bkg_e = build_features_e(data_bkg_l)\n",
    "feats_sig_ec = build_features_ec(data_sig_l)\n",
    "feats_bkg_ec = build_features_ec(data_bkg_l)\n",
    "feats_sig_e_2D = build_features_e_2D(data_sig_l)\n",
    "feats_bkg_e_2D = build_features_e_2D(data_bkg_l)\n",
    "feats_sig_ec_2D = build_features_ec_2D(data_sig_l)\n",
    "feats_bkg_ec_2D = build_features_ec_2D(data_bkg_l)\n",
    "\n",
    "F_sig = [feats_sig_e, feats_sig_ec, feats_sig_e_2D, feats_sig_ec_2D]\n",
    "F_bkg = [feats_bkg_e, feats_bkg_ec, feats_bkg_e_2D, feats_bkg_ec_2D]"
   ]
  },
  {
   "cell_type": "code",
   "execution_count": 10,
   "id": "7d9e1dc0",
   "metadata": {},
   "outputs": [
    {
     "data": {
      "text/plain": [
       "<Figure size 5040x8640 with 0 Axes>"
      ]
     },
     "metadata": {},
     "output_type": "display_data"
    },
    {
     "data": {
      "image/png": "[encoded data removed]",
      "text/plain": [
       "<Figure size 576x720 with 4 Axes>"
      ]
     },
     "metadata": {
      "needs_background": "light"
     },
     "output_type": "display_data"
    }
   ],
   "source": [
    "# Plotting the last feature for each of the 4 methods, which is the number of hits\n",
    "ncols = 2\n",
    "nrows = 2\n",
    "\n",
    "plt.figure(figsize=(70, 120))\n",
    "fig, (axs) = plt.subplots(nrows, ncols)\n",
    "fig.set_figheight(10)\n",
    "fig.set_figwidth(8)\n",
    "\n",
    "xlabels = ['En 3D', 'En + Hits 3D', 'En 2D', 'En + Hits 2D']\n",
    "for i in range(ncols):\n",
    "    for j in range(nrows):\n",
    "        ij = i * ncols + j\n",
    "        if ij == 4:\n",
    "            break\n",
    "        axs[i, j].hist(F_sig[ij][-1], alpha=0.6, bins = 17, range = [0,17])\n",
    "        axs[i, j].hist(F_bkg[ij][-1], alpha = 0.6, bins = 17, range = [0,17])\n",
    "        axs[i, j].set_title(\"# hits in event\")\n",
    "        axs[i, j].set_xlabel(xlabels[ij])"
   ]
  },
  {
   "cell_type": "code",
   "execution_count": 11,
   "id": "f5f4a1e5",
   "metadata": {
    "scrolled": true
   },
   "outputs": [
    {
     "data": {
      "image/png": "[encoded data removed]",
      "text/plain": [
       "<Figure size 432x288 with 2 Axes>"
      ]
     },
     "metadata": {
      "needs_background": "light"
     },
     "output_type": "display_data"
    }
   ],
   "source": [
    "# Linear correlation (Pearson) matrix\n",
    "corr = np.corrcoef((F_sig[0]))\n",
    "\n",
    "ax = sns.heatmap(np.abs(corr), linewidth=0.5, cmap=\"YlGnBu\")\n",
    "plt.show()"
   ]
  },
  {
   "cell_type": "code",
   "execution_count": 12,
   "id": "c5504727",
   "metadata": {},
   "outputs": [],
   "source": [
    "# Feature selection based on Gini index\n",
    "def RFselection(str, ltr, ste, nfeats):\n",
    "    model = RandomForestRegressor(random_state=1, max_depth=10)\n",
    "    model.fit(str, ltr)\n",
    "    importances = model.feature_importances_\n",
    "    indices = np.argsort(importances)[-nfeats:]\n",
    "\n",
    "    str = str[:, indices]\n",
    "    ste = ste[:, indices]\n",
    "    #feature = SelectFromModel(model) \n",
    "    return str, ste"
   ]
  },
  {
   "cell_type": "code",
   "execution_count": 13,
   "id": "892c327d",
   "metadata": {},
   "outputs": [
    {
     "name": "stdout",
     "output_type": "stream",
     "text": [
      " 3D En         linear kernel test score:  0.6009\n",
      " 3D En         poly kernel test score:  0.5989\n",
      " 3D En         rbf kernel test score:  0.6258\n",
      " 3D En+coords  linear kernel test score:  0.5994\n",
      " 3D En+coords  poly kernel test score:  0.6022\n",
      " 3D En+coords  rbf kernel test score:  0.6223\n",
      " 2D En         linear kernel test score:  0.5723\n",
      " 2D En         poly kernel test score:  0.5521\n",
      " 2D En         rbf kernel test score:  0.5517\n",
      " 2D En+coords  linear kernel test score:  0.5768\n",
      " 2D En+coords  poly kernel test score:  0.5533\n",
      " 2D En+coords  rbf kernel test score:  0.5633\n"
     ]
    }
   ],
   "source": [
    "# Train and test splitting, training and testing the SVM\n",
    "# No evidence of improvements when including coordinates features\n",
    "\n",
    "r = np.arange(0, 20000)\n",
    "train_idx = np.array(random.sample(range(20000), 1000))\n",
    "test_idx = np.delete(r, train_idx)\n",
    "\n",
    "speech = [' 3D En        ', ' 3D En+coords ', ' 2D En        ', ' 2D En+coords ']\n",
    "classical_kernels = [\"linear\", \"poly\", \"rbf\"]#, \"sigmoid\"]\n",
    "for i in range(0, 4):\n",
    "    \n",
    "    data = np.concatenate([F_sig[i], F_bkg[i]], axis=1).T\n",
    "    scaler = MinMaxScaler()\n",
    "    scaler.fit(data)\n",
    "    data = scaler.transform(data)\n",
    "    labels = np.concatenate((np.ones(10000), np.zeros(10000)))\n",
    "    \n",
    "    sample_train = data[train_idx]\n",
    "    label_train = labels[train_idx]\n",
    "    sample_test = data[test_idx]\n",
    "    label_test = labels[test_idx]\n",
    "\n",
    "    do_RFselection = False # True = selection with Gini index\n",
    "    do_PCA = True # Probably not the best choice for feature reduction\n",
    "    if do_RFselection:\n",
    "        nfeats = 7\n",
    "        sample_train, sample_test = RFselection(sample_train, label_train,\n",
    "                                                sample_test, nfeats)\n",
    "    if do_PCA:\n",
    "        n_dim = 7\n",
    "        pca = PCA(n_components=n_dim).fit(sample_train)\n",
    "        sample_train = pca.transform(sample_train)\n",
    "        sample_test = pca.transform(sample_test)\n",
    "\n",
    "    for kernel in classical_kernels:\n",
    "        classical_svc = SVC(kernel=kernel)\n",
    "        classical_svc.fit(sample_train, label_train)\n",
    "        classical_score = classical_svc.score(sample_test, label_test)\n",
    "\n",
    "        print(\"%s %s kernel test score:  %0.4f\" % (speech[i], kernel, classical_score))"
   ]
  },
  {
   "cell_type": "code",
   "execution_count": 14,
   "id": "8730a49b",
   "metadata": {},
   "outputs": [
    {
     "name": "stdout",
     "output_type": "stream",
     "text": [
      "Train: data of shape (16000, 8, 40, 2), labels of shape (16000, 2)\n",
      "Test: data of shape (4000, 8, 40, 2), labels of shape (4000, 2)\n"
     ]
    }
   ],
   "source": [
    "# CNN approach\n",
    "# CNN is the best so far (not using raw entries but the 2D XZ and YZ views as 'images')\n",
    "\n",
    "data_sigY = np.expand_dims(data_sig_l.sum(2), 3)\n",
    "data_bkgY = np.expand_dims(data_bkg_l.sum(2), 3)\n",
    "\n",
    "data_sigX = np.expand_dims(data_sig_l.sum(1), 3)\n",
    "data_bkgX = np.expand_dims(data_bkg_l.sum(1), 3)\n",
    "\n",
    "dataYX_sig = np.concatenate([data_sigY, data_sigX], axis=3)\n",
    "dataYX_bkg = np.concatenate([data_bkgY, data_bkgX], axis=3)\n",
    "data = np.concatenate([dataYX_bkg, dataYX_sig], axis=0)\n",
    "\n",
    "labels = np.concatenate([np.zeros(dataYX_bkg.shape[0]), np.ones(dataYX_sig.shape[0])])\n",
    "\n",
    "sample_train, sample_test, label_train, label_test = train_test_split(\n",
    "    data, labels, test_size=0.2, train_size=0.8\n",
    ")\n",
    "label_train = to_categorical(label_train)\n",
    "label_test = to_categorical(label_test)\n",
    "print(f\"Train: data of shape {sample_train.shape}, labels of shape {label_train.shape}\")\n",
    "print(f\"Test: data of shape {sample_test.shape}, labels of shape {label_test.shape}\")"
   ]
  },
  {
   "cell_type": "code",
   "execution_count": 15,
   "id": "97f7e876",
   "metadata": {},
   "outputs": [
    {
     "name": "stdout",
     "output_type": "stream",
     "text": [
      "Model: \"sequential\"\n",
      "_________________________________________________________________\n",
      " Layer (type)                Output Shape              Param #   \n",
      "=================================================================\n",
      " conv2d (Conv2D)             (None, 8, 40, 32)         608       \n",
      "                                                                 \n",
      " leaky_re_lu (LeakyReLU)     (None, 8, 40, 32)         0         \n",
      "                                                                 \n",
      " max_pooling2d (MaxPooling2D  (None, 4, 20, 32)        0         \n",
      " )                                                               \n",
      "                                                                 \n",
      " conv2d_1 (Conv2D)           (None, 2, 18, 12)         3468      \n",
      "                                                                 \n",
      " leaky_re_lu_1 (LeakyReLU)   (None, 2, 18, 12)         0         \n",
      "                                                                 \n",
      " max_pooling2d_1 (MaxPooling  (None, 1, 9, 12)         0         \n",
      " 2D)                                                             \n",
      "                                                                 \n",
      " flatten (Flatten)           (None, 108)               0         \n",
      "                                                                 \n",
      " dense (Dense)               (None, 3)                 327       \n",
      "                                                                 \n",
      " leaky_re_lu_2 (LeakyReLU)   (None, 3)                 0         \n",
      "                                                                 \n",
      " dense_1 (Dense)             (None, 2)                 8         \n",
      "                                                                 \n",
      "=================================================================\n",
      "Total params: 4,411\n",
      "Trainable params: 4,411\n",
      "Non-trainable params: 0\n",
      "_________________________________________________________________\n"
     ]
    }
   ],
   "source": [
    "from tensorflow.keras.losses import categorical_crossentropy\n",
    "from tensorflow.keras.optimizers import Adam\n",
    "from tensorflow.keras.models import Sequential\n",
    "from tensorflow.keras.layers import Dense, Flatten\n",
    "from tensorflow.keras.layers import Conv2D, MaxPooling2D\n",
    "from tensorflow.keras.layers import LeakyReLU\n",
    "\n",
    "# CNN architecture\n",
    "\n",
    "batch_size = 600\n",
    "epochs = 20\n",
    "num_classes = 2\n",
    "learning_rate = 0.05\n",
    "\n",
    "model = Sequential()\n",
    "model.add(Conv2D(32, kernel_size=(3, 3), input_shape=(8, 40, 2), padding=\"same\"))\n",
    "model.add(LeakyReLU(alpha=0.1))\n",
    "model.add(MaxPooling2D((2, 2), padding=\"same\"))\n",
    "model.add(Conv2D(12, kernel_size=(3, 3)))\n",
    "model.add(LeakyReLU(alpha=0.1))\n",
    "model.add(MaxPooling2D((2, 2), padding=\"same\"))\n",
    "model.add(Flatten())\n",
    "model.add(Dense(3))\n",
    "model.add(LeakyReLU(alpha=0.1))\n",
    "model.add(Dense(num_classes, activation=\"softmax\"))\n",
    "\n",
    "model.compile(\n",
    "    loss=categorical_crossentropy, optimizer=Adam(learning_rate), metrics=[\"accuracy\"]\n",
    ")\n",
    "model.summary()"
   ]
  },
  {
   "cell_type": "code",
   "execution_count": 16,
   "id": "5d744910",
   "metadata": {},
   "outputs": [
    {
     "name": "stdout",
     "output_type": "stream",
     "text": [
      "Epoch 1/20\n",
      "27/27 [==============================] - 3s 100ms/step - loss: 0.6593 - accuracy: 0.6072\n",
      "Epoch 2/20\n",
      "27/27 [==============================] - 3s 103ms/step - loss: 0.6306 - accuracy: 0.6491\n",
      "Epoch 3/20\n",
      "27/27 [==============================] - 3s 105ms/step - loss: 0.6171 - accuracy: 0.6587\n",
      "Epoch 4/20\n",
      "27/27 [==============================] - 3s 118ms/step - loss: 0.6072 - accuracy: 0.6734\n",
      "Epoch 5/20\n",
      "27/27 [==============================] - 3s 98ms/step - loss: 0.5972 - accuracy: 0.6842\n",
      "Epoch 6/20\n",
      "27/27 [==============================] - 3s 101ms/step - loss: 0.5979 - accuracy: 0.6817\n",
      "Epoch 7/20\n",
      "27/27 [==============================] - 3s 107ms/step - loss: 0.5956 - accuracy: 0.6822\n",
      "Epoch 8/20\n",
      "27/27 [==============================] - 3s 103ms/step - loss: 0.5783 - accuracy: 0.6965\n",
      "Epoch 9/20\n",
      "27/27 [==============================] - 3s 111ms/step - loss: 0.5768 - accuracy: 0.6970\n",
      "Epoch 10/20\n",
      "27/27 [==============================] - 3s 112ms/step - loss: 0.5652 - accuracy: 0.7060\n",
      "Epoch 11/20\n",
      "27/27 [==============================] - 3s 125ms/step - loss: 0.5671 - accuracy: 0.7057\n",
      "Epoch 12/20\n",
      "27/27 [==============================] - 4s 130ms/step - loss: 0.5623 - accuracy: 0.7119\n",
      "Epoch 13/20\n",
      "27/27 [==============================] - 3s 112ms/step - loss: 0.5550 - accuracy: 0.7163\n",
      "Epoch 14/20\n",
      "27/27 [==============================] - 3s 98ms/step - loss: 0.5553 - accuracy: 0.7136\n",
      "Epoch 15/20\n",
      "27/27 [==============================] - 3s 97ms/step - loss: 0.5473 - accuracy: 0.7193\n",
      "Epoch 16/20\n",
      "27/27 [==============================] - 3s 98ms/step - loss: 0.5376 - accuracy: 0.7263\n",
      "Epoch 17/20\n",
      "27/27 [==============================] - 3s 101ms/step - loss: 0.5494 - accuracy: 0.7179\n",
      "Epoch 18/20\n",
      "27/27 [==============================] - 3s 97ms/step - loss: 0.5391 - accuracy: 0.7264\n",
      "Epoch 19/20\n",
      "27/27 [==============================] - 3s 97ms/step - loss: 0.5327 - accuracy: 0.7304\n",
      "Epoch 20/20\n",
      "27/27 [==============================] - 3s 106ms/step - loss: 0.5334 - accuracy: 0.7292\n"
     ]
    }
   ],
   "source": [
    "train = model.fit(\n",
    "    sample_train, label_train, batch_size=batch_size, epochs=epochs, verbose=1\n",
    ")"
   ]
  },
  {
   "cell_type": "code",
   "execution_count": 17,
   "id": "75bca2b2",
   "metadata": {},
   "outputs": [
    {
     "name": "stdout",
     "output_type": "stream",
     "text": [
      "Test loss: 0.5964741706848145\n",
      "Test accuracy: 0.6819999814033508\n"
     ]
    }
   ],
   "source": [
    "# Evaluating performances on test set\n",
    "test_eval = model.evaluate(sample_test, label_test, verbose=0)\n",
    "print(\"Test loss:\", test_eval[0])\n",
    "print(\"Test accuracy:\", test_eval[1])"
   ]
  },
  {
   "cell_type": "code",
   "execution_count": 28,
   "id": "a3c738f4",
   "metadata": {},
   "outputs": [],
   "source": [
    "# Last approach: 'heuristic'. Features based on the underlying physics assumptions\n",
    "def build_features(data):\n",
    "    feats = np.zeros((17, data.shape[0]))-1\n",
    "    for i, particle in enumerate(data):\n",
    "        coords = np.argwhere(particle)\n",
    "        n = coords.shape[0]\n",
    "        if n != 0:\n",
    "            n = coords.shape[0]\n",
    "            en = np.zeros(n)  \n",
    "            for j in range(0, n):\n",
    "                en[j] = particle[coords[j,0], coords[j, 1], coords[j, 2]]\n",
    "            feats[0, i] = coords.shape[0]\n",
    "            feats[1, i] = np.sqrt((coords[0, 0] - coords[-1,0])**2 + \n",
    "                                  (coords[0, 1] - coords[-1, 1])**2 + \n",
    "                                  (coords[0, 2] - coords[-1, 2])**2)/coords.shape[0]\n",
    "            feats[2, i] = (en[0] + en[-1])/np.sum(en)\n",
    "\n",
    "            feats[3, i] = np.sum(en)\n",
    "            feats[13, i] = np.log(1+en[round(n/2)]/en[0]/en[-1])\n",
    "            feats[16, i] = np.amax(en)/n\n",
    "            if n> 1:\n",
    "                feats[14, i] = np.log(1+en[round(n/2)]/en[1]/en[-2])\n",
    "                feats[8, i] = (en[1] + en[-2])/np.sum(en)\n",
    "                feats[4, i] = np.abs(np.amax(np.diff(en))/np.sum(en))\n",
    "            if n > 3:\n",
    "                feats[9, i] = en[round(n/2)]/np.sum(en)\n",
    "                feats[5, i] = np.abs(en[0]+en[1] - en[-1]-en[-2])/np.sum(en)\n",
    "                feats[6, i] = np.sqrt((coords[1, 0] - coords[-2,0])**2 + \n",
    "                                      (coords[1, 1] - coords[-2, 1])**2 + \n",
    "                                      (coords[1, 2] - coords[-2, 2])**2)/coords.shape[0]\n",
    "            if n > 5:\n",
    "                feats[15, i] = en[round(n/2)] + en[round(n/2+2)] + en[round(n/2-2)]\n",
    "\n",
    "                feats[10, i] = np.abs(en[2]+en[1] - en[-3]-en[-2])/np.sum(en)\n",
    "                feats[7, i] = np.sqrt((coords[2, 0] - coords[-3,0])**2 + \n",
    "                                      (coords[2, 1] - coords[-3, 1])**2 + \n",
    "                                      (coords[2, 2] - coords[-3, 2])**2)/coords.shape[0]\n",
    "            if n > 6:\n",
    "                feats[11, i] = np.abs(en[2]+en[3] - en[-3]-en[-4])/np.sum(en)\n",
    "            if n > 7:\n",
    "                feats[12, i] = np.abs(en[4]+en[3] - en[-5]-en[-4])/np.sum(en)\n",
    "#     feats[-3,:] = np.log(0.1+feats[-3,:])\n",
    "#     feats[-4,:] = np.log(0.1+feats[-4,:])\n",
    "    return feats"
   ]
  },
  {
   "cell_type": "code",
   "execution_count": 29,
   "id": "f3a7de88",
   "metadata": {},
   "outputs": [],
   "source": [
    "feats_sig = build_features(data_sig_l)\n",
    "feats_bkg = build_features(data_bkg_l)"
   ]
  },
  {
   "cell_type": "code",
   "execution_count": 30,
   "id": "2fdd0901",
   "metadata": {},
   "outputs": [
    {
     "data": {
      "text/plain": [
       "<Figure size 3600x7200 with 0 Axes>"
      ]
     },
     "metadata": {},
     "output_type": "display_data"
    },
    {
     "data": {
      "image/png": "[encoded data removed]",
      "text/plain": [
       "<Figure size 1080x1080 with 25 Axes>"
      ]
     },
     "metadata": {
      "needs_background": "light"
     },
     "output_type": "display_data"
    }
   ],
   "source": [
    "ncols = 5\n",
    "nrows = 5\n",
    "\n",
    "plt.figure(figsize=(50, 100))\n",
    "fig, (axs) = plt.subplots(nrows, ncols)\n",
    "fig.set_figheight(15)\n",
    "fig.set_figwidth(15)\n",
    "\n",
    "ij = 0\n",
    "for i in range(ncols):\n",
    "    if ij == 17:\n",
    "        break\n",
    "    for j in range(nrows):\n",
    "        ij = i * ncols + j\n",
    "        if ij == 17:\n",
    "            break\n",
    "        axs[i, j].hist(feats_sig[ij], alpha=0.6)\n",
    "        axs[i, j].hist(feats_bkg[ij], alpha = 0.6)"
   ]
  },
  {
   "cell_type": "code",
   "execution_count": 31,
   "id": "4ce1c250",
   "metadata": {},
   "outputs": [
    {
     "data": {
      "image/png": "[encoded data removed]",
      "text/plain": [
       "<Figure size 432x288 with 2 Axes>"
      ]
     },
     "metadata": {
      "needs_background": "light"
     },
     "output_type": "display_data"
    }
   ],
   "source": [
    "corr = np.corrcoef(list(feats_sig))\n",
    "\n",
    "ax = sns.heatmap(np.abs(corr), linewidth=0.5, cmap=\"YlGnBu\")\n",
    "plt.show()"
   ]
  },
  {
   "cell_type": "code",
   "execution_count": 32,
   "id": "68e76ba8",
   "metadata": {},
   "outputs": [
    {
     "name": "stdout",
     "output_type": "stream",
     "text": [
      "linear kernel classification test score:  0.6295\n",
      "poly kernel classification test score:  0.6166\n",
      "rbf kernel classification test score:  0.6354\n",
      "sigmoid kernel classification test score:  0.5473\n"
     ]
    }
   ],
   "source": [
    "data = np.concatenate([feats_sig, feats_bkg], axis=1).T\n",
    "labels = np.concatenate((np.ones(feats_sig.shape[1]), np.zeros(feats_bkg.shape[1])))\n",
    "\n",
    "# Train and test splitting, training and testing the SVM\n",
    "sample_train, sample_test, label_train, label_test = train_test_split(\n",
    "    data, labels, test_size=0.9, train_size=0.1\n",
    ")\n",
    "\n",
    "# PCA with n_dim principal components\n",
    "do_PCA = True\n",
    "if do_PCA:\n",
    "    n_dim = 10\n",
    "    pca = PCA(n_components=n_dim).fit(sample_train)\n",
    "    sample_train = pca.transform(sample_train)\n",
    "    sample_test = pca.transform(sample_test)\n",
    "\n",
    "classical_kernels = [\"linear\", \"poly\", \"rbf\", \"sigmoid\"]\n",
    "\n",
    "for kernel in classical_kernels:\n",
    "    classical_svc = SVC(kernel=kernel)\n",
    "    classical_svc.fit(sample_train, label_train)\n",
    "    classical_score = classical_svc.score(sample_test, label_test)\n",
    "\n",
    "    print(\"%s kernel classification test score:  %0.4f\" % (kernel, classical_score))"
   ]
  },
  {
   "cell_type": "code",
   "execution_count": null,
   "id": "d42835bd",
   "metadata": {},
   "outputs": [],
   "source": []
  }
 ],
 "metadata": {
  "kernelspec": {
   "display_name": "Python 3 (ipykernel)",
   "language": "python",
   "name": "python3"
  },
  "language_info": {
   "codemirror_mode": {
    "name": "ipython",
    "version": 3
   },
   "file_extension": ".py",
   "mimetype": "text/x-python",
   "name": "python",
   "nbconvert_exporter": "python",
   "pygments_lexer": "ipython3",
   "version": "3.9.9"
  }
 },
 "nbformat": 4,
 "nbformat_minor": 5
}
